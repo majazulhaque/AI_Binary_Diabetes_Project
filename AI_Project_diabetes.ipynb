{
 "cells": [
  {
   "cell_type": "code",
   "execution_count": 1,
   "id": "882f71b7",
   "metadata": {},
   "outputs": [],
   "source": [
    "import pandas as pd\n",
    "import numpy as np\n",
    "import matplotlib.pyplot as plt"
   ]
  },
  {
   "cell_type": "code",
   "execution_count": 31,
   "id": "fb39b48a",
   "metadata": {},
   "outputs": [
    {
     "data": {
      "text/html": [
       "<div>\n",
       "<style scoped>\n",
       "    .dataframe tbody tr th:only-of-type {\n",
       "        vertical-align: middle;\n",
       "    }\n",
       "\n",
       "    .dataframe tbody tr th {\n",
       "        vertical-align: top;\n",
       "    }\n",
       "\n",
       "    .dataframe thead th {\n",
       "        text-align: right;\n",
       "    }\n",
       "</style>\n",
       "<table border=\"1\" class=\"dataframe\">\n",
       "  <thead>\n",
       "    <tr style=\"text-align: right;\">\n",
       "      <th></th>\n",
       "      <th>Pregnancies</th>\n",
       "      <th>Glucose</th>\n",
       "      <th>BloodPressure</th>\n",
       "      <th>SkinThickness</th>\n",
       "      <th>Insulin</th>\n",
       "      <th>BMI</th>\n",
       "      <th>DiabetesPedigreeFunction</th>\n",
       "      <th>Age</th>\n",
       "      <th>Outcome</th>\n",
       "    </tr>\n",
       "  </thead>\n",
       "  <tbody>\n",
       "    <tr>\n",
       "      <th>0</th>\n",
       "      <td>6</td>\n",
       "      <td>148</td>\n",
       "      <td>72</td>\n",
       "      <td>35</td>\n",
       "      <td>0</td>\n",
       "      <td>33.6</td>\n",
       "      <td>0.627</td>\n",
       "      <td>50</td>\n",
       "      <td>1</td>\n",
       "    </tr>\n",
       "    <tr>\n",
       "      <th>1</th>\n",
       "      <td>1</td>\n",
       "      <td>85</td>\n",
       "      <td>66</td>\n",
       "      <td>29</td>\n",
       "      <td>0</td>\n",
       "      <td>26.6</td>\n",
       "      <td>0.351</td>\n",
       "      <td>31</td>\n",
       "      <td>0</td>\n",
       "    </tr>\n",
       "    <tr>\n",
       "      <th>2</th>\n",
       "      <td>8</td>\n",
       "      <td>183</td>\n",
       "      <td>64</td>\n",
       "      <td>0</td>\n",
       "      <td>0</td>\n",
       "      <td>23.3</td>\n",
       "      <td>0.672</td>\n",
       "      <td>32</td>\n",
       "      <td>1</td>\n",
       "    </tr>\n",
       "    <tr>\n",
       "      <th>3</th>\n",
       "      <td>1</td>\n",
       "      <td>89</td>\n",
       "      <td>66</td>\n",
       "      <td>23</td>\n",
       "      <td>94</td>\n",
       "      <td>28.1</td>\n",
       "      <td>0.167</td>\n",
       "      <td>21</td>\n",
       "      <td>0</td>\n",
       "    </tr>\n",
       "    <tr>\n",
       "      <th>4</th>\n",
       "      <td>0</td>\n",
       "      <td>137</td>\n",
       "      <td>40</td>\n",
       "      <td>35</td>\n",
       "      <td>168</td>\n",
       "      <td>43.1</td>\n",
       "      <td>2.288</td>\n",
       "      <td>33</td>\n",
       "      <td>1</td>\n",
       "    </tr>\n",
       "  </tbody>\n",
       "</table>\n",
       "</div>"
      ],
      "text/plain": [
       "   Pregnancies  Glucose  BloodPressure  SkinThickness  Insulin   BMI  \\\n",
       "0            6      148             72             35        0  33.6   \n",
       "1            1       85             66             29        0  26.6   \n",
       "2            8      183             64              0        0  23.3   \n",
       "3            1       89             66             23       94  28.1   \n",
       "4            0      137             40             35      168  43.1   \n",
       "\n",
       "   DiabetesPedigreeFunction  Age  Outcome  \n",
       "0                     0.627   50        1  \n",
       "1                     0.351   31        0  \n",
       "2                     0.672   32        1  \n",
       "3                     0.167   21        0  \n",
       "4                     2.288   33        1  "
      ]
     },
     "execution_count": 31,
     "metadata": {},
     "output_type": "execute_result"
    }
   ],
   "source": [
    "df1 = pd.read_csv('diabetes.csv')\n",
    "df1.head()"
   ]
  },
  {
   "cell_type": "code",
   "execution_count": 32,
   "id": "67102bec",
   "metadata": {},
   "outputs": [
    {
     "data": {
      "text/plain": [
       "(768, 9)"
      ]
     },
     "execution_count": 32,
     "metadata": {},
     "output_type": "execute_result"
    }
   ],
   "source": [
    "df1.shape"
   ]
  },
  {
   "cell_type": "markdown",
   "id": "6cd84742",
   "metadata": {},
   "source": [
    "# STEP-1"
   ]
  },
  {
   "cell_type": "code",
   "execution_count": 33,
   "id": "022cf0ac",
   "metadata": {},
   "outputs": [
    {
     "data": {
      "text/plain": [
       "Pregnancies                 0\n",
       "Glucose                     0\n",
       "BloodPressure               0\n",
       "SkinThickness               0\n",
       "Insulin                     0\n",
       "BMI                         0\n",
       "DiabetesPedigreeFunction    0\n",
       "Age                         0\n",
       "Outcome                     0\n",
       "dtype: int64"
      ]
     },
     "execution_count": 33,
     "metadata": {},
     "output_type": "execute_result"
    }
   ],
   "source": [
    "df1.isnull().sum()"
   ]
  },
  {
   "cell_type": "code",
   "execution_count": 34,
   "id": "0438e291",
   "metadata": {},
   "outputs": [
    {
     "data": {
      "text/plain": [
       "Pregnancies                   int64\n",
       "Glucose                       int64\n",
       "BloodPressure                 int64\n",
       "SkinThickness                 int64\n",
       "Insulin                       int64\n",
       "BMI                         float64\n",
       "DiabetesPedigreeFunction    float64\n",
       "Age                           int64\n",
       "Outcome                       int64\n",
       "dtype: object"
      ]
     },
     "execution_count": 34,
     "metadata": {},
     "output_type": "execute_result"
    }
   ],
   "source": [
    "df1.dtypes"
   ]
  },
  {
   "cell_type": "code",
   "execution_count": 36,
   "id": "bdb4bd3b",
   "metadata": {},
   "outputs": [
    {
     "data": {
      "text/plain": [
       "0    500\n",
       "1    268\n",
       "Name: Outcome, dtype: int64"
      ]
     },
     "execution_count": 36,
     "metadata": {},
     "output_type": "execute_result"
    }
   ],
   "source": [
    "d12 = df1['Outcome'].value_counts()\n",
    "d12"
   ]
  },
  {
   "cell_type": "code",
   "execution_count": 7,
   "id": "65e32291",
   "metadata": {},
   "outputs": [
    {
     "data": {
      "image/png": "[encoded data removed]",
      "text/plain": [
       "<Figure size 432x288 with 1 Axes>"
      ]
     },
     "metadata": {
      "needs_background": "light"
     },
     "output_type": "display_data"
    }
   ],
   "source": [
    "plt.bar(['0','1'],d1.values,color='green')\n",
    "plt.show()"
   ]
  },
  {
   "cell_type": "code",
   "execution_count": 37,
   "id": "035a3aa2",
   "metadata": {},
   "outputs": [
    {
     "data": {
      "text/plain": [
       "Index(['Pregnancies', 'Glucose', 'BloodPressure', 'SkinThickness', 'Insulin',\n",
       "       'BMI', 'DiabetesPedigreeFunction', 'Age', 'Outcome'],\n",
       "      dtype='object')"
      ]
     },
     "execution_count": 37,
     "metadata": {},
     "output_type": "execute_result"
    }
   ],
   "source": [
    "df1.columns"
   ]
  },
  {
   "cell_type": "code",
   "execution_count": 39,
   "id": "5e18d647",
   "metadata": {},
   "outputs": [
    {
     "data": {
      "text/plain": [
       "1     135\n",
       "0     111\n",
       "2     103\n",
       "3      75\n",
       "4      68\n",
       "5      57\n",
       "6      50\n",
       "7      45\n",
       "8      38\n",
       "9      28\n",
       "10     24\n",
       "11     11\n",
       "13     10\n",
       "12      9\n",
       "14      2\n",
       "15      1\n",
       "17      1\n",
       "Name: Pregnancies, dtype: int64"
      ]
     },
     "execution_count": 39,
     "metadata": {},
     "output_type": "execute_result"
    }
   ],
   "source": [
    "df1['Pregnancies'].value_counts()"
   ]
  },
  {
   "cell_type": "code",
   "execution_count": 41,
   "id": "856850b1",
   "metadata": {},
   "outputs": [
    {
     "data": {
      "text/plain": [
       "Pregnancies  Outcome\n",
       "0            0            0\n",
       "             1            0\n",
       "1            0          106\n",
       "             1           29\n",
       "2            0          168\n",
       "             1           38\n",
       "3            0          144\n",
       "             1           81\n",
       "4            0          180\n",
       "             1           92\n",
       "5            0          180\n",
       "             1          105\n",
       "6            0          204\n",
       "             1           96\n",
       "7            0          140\n",
       "             1          175\n",
       "8            0          128\n",
       "             1          176\n",
       "9            0           90\n",
       "             1          162\n",
       "10           0          140\n",
       "             1          100\n",
       "11           0           44\n",
       "             1           77\n",
       "12           0           60\n",
       "             1           48\n",
       "13           0           65\n",
       "             1           65\n",
       "14           1           28\n",
       "15           1           15\n",
       "17           1           17\n",
       "Name: Pregnancies, dtype: int64"
      ]
     },
     "execution_count": 41,
     "metadata": {},
     "output_type": "execute_result"
    }
   ],
   "source": [
    "d22 = df1.groupby(['Pregnancies','Outcome'])['Pregnancies'].sum()\n",
    "d22"
   ]
  },
  {
   "cell_type": "code",
   "execution_count": 42,
   "id": "859c34de",
   "metadata": {},
   "outputs": [
    {
     "data": {
      "text/html": [
       "<div>\n",
       "<style scoped>\n",
       "    .dataframe tbody tr th:only-of-type {\n",
       "        vertical-align: middle;\n",
       "    }\n",
       "\n",
       "    .dataframe tbody tr th {\n",
       "        vertical-align: top;\n",
       "    }\n",
       "\n",
       "    .dataframe thead th {\n",
       "        text-align: right;\n",
       "    }\n",
       "</style>\n",
       "<table border=\"1\" class=\"dataframe\">\n",
       "  <thead>\n",
       "    <tr style=\"text-align: right;\">\n",
       "      <th></th>\n",
       "      <th>Pregnancies</th>\n",
       "      <th>Glucose</th>\n",
       "      <th>BloodPressure</th>\n",
       "      <th>SkinThickness</th>\n",
       "      <th>Insulin</th>\n",
       "      <th>BMI</th>\n",
       "      <th>DiabetesPedigreeFunction</th>\n",
       "      <th>Age</th>\n",
       "      <th>Outcome</th>\n",
       "    </tr>\n",
       "  </thead>\n",
       "  <tbody>\n",
       "    <tr>\n",
       "      <th>Pregnancies</th>\n",
       "      <td>1.000000</td>\n",
       "      <td>0.129459</td>\n",
       "      <td>0.141282</td>\n",
       "      <td>-0.081672</td>\n",
       "      <td>-0.073535</td>\n",
       "      <td>0.017683</td>\n",
       "      <td>-0.033523</td>\n",
       "      <td>0.544341</td>\n",
       "      <td>0.221898</td>\n",
       "    </tr>\n",
       "    <tr>\n",
       "      <th>Glucose</th>\n",
       "      <td>0.129459</td>\n",
       "      <td>1.000000</td>\n",
       "      <td>0.152590</td>\n",
       "      <td>0.057328</td>\n",
       "      <td>0.331357</td>\n",
       "      <td>0.221071</td>\n",
       "      <td>0.137337</td>\n",
       "      <td>0.263514</td>\n",
       "      <td>0.466581</td>\n",
       "    </tr>\n",
       "    <tr>\n",
       "      <th>BloodPressure</th>\n",
       "      <td>0.141282</td>\n",
       "      <td>0.152590</td>\n",
       "      <td>1.000000</td>\n",
       "      <td>0.207371</td>\n",
       "      <td>0.088933</td>\n",
       "      <td>0.281805</td>\n",
       "      <td>0.041265</td>\n",
       "      <td>0.239528</td>\n",
       "      <td>0.065068</td>\n",
       "    </tr>\n",
       "    <tr>\n",
       "      <th>SkinThickness</th>\n",
       "      <td>-0.081672</td>\n",
       "      <td>0.057328</td>\n",
       "      <td>0.207371</td>\n",
       "      <td>1.000000</td>\n",
       "      <td>0.436783</td>\n",
       "      <td>0.392573</td>\n",
       "      <td>0.183928</td>\n",
       "      <td>-0.113970</td>\n",
       "      <td>0.074752</td>\n",
       "    </tr>\n",
       "    <tr>\n",
       "      <th>Insulin</th>\n",
       "      <td>-0.073535</td>\n",
       "      <td>0.331357</td>\n",
       "      <td>0.088933</td>\n",
       "      <td>0.436783</td>\n",
       "      <td>1.000000</td>\n",
       "      <td>0.197859</td>\n",
       "      <td>0.185071</td>\n",
       "      <td>-0.042163</td>\n",
       "      <td>0.130548</td>\n",
       "    </tr>\n",
       "    <tr>\n",
       "      <th>BMI</th>\n",
       "      <td>0.017683</td>\n",
       "      <td>0.221071</td>\n",
       "      <td>0.281805</td>\n",
       "      <td>0.392573</td>\n",
       "      <td>0.197859</td>\n",
       "      <td>1.000000</td>\n",
       "      <td>0.140647</td>\n",
       "      <td>0.036242</td>\n",
       "      <td>0.292695</td>\n",
       "    </tr>\n",
       "    <tr>\n",
       "      <th>DiabetesPedigreeFunction</th>\n",
       "      <td>-0.033523</td>\n",
       "      <td>0.137337</td>\n",
       "      <td>0.041265</td>\n",
       "      <td>0.183928</td>\n",
       "      <td>0.185071</td>\n",
       "      <td>0.140647</td>\n",
       "      <td>1.000000</td>\n",
       "      <td>0.033561</td>\n",
       "      <td>0.173844</td>\n",
       "    </tr>\n",
       "    <tr>\n",
       "      <th>Age</th>\n",
       "      <td>0.544341</td>\n",
       "      <td>0.263514</td>\n",
       "      <td>0.239528</td>\n",
       "      <td>-0.113970</td>\n",
       "      <td>-0.042163</td>\n",
       "      <td>0.036242</td>\n",
       "      <td>0.033561</td>\n",
       "      <td>1.000000</td>\n",
       "      <td>0.238356</td>\n",
       "    </tr>\n",
       "    <tr>\n",
       "      <th>Outcome</th>\n",
       "      <td>0.221898</td>\n",
       "      <td>0.466581</td>\n",
       "      <td>0.065068</td>\n",
       "      <td>0.074752</td>\n",
       "      <td>0.130548</td>\n",
       "      <td>0.292695</td>\n",
       "      <td>0.173844</td>\n",
       "      <td>0.238356</td>\n",
       "      <td>1.000000</td>\n",
       "    </tr>\n",
       "  </tbody>\n",
       "</table>\n",
       "</div>"
      ],
      "text/plain": [
       "                          Pregnancies   Glucose  BloodPressure  SkinThickness  \\\n",
       "Pregnancies                  1.000000  0.129459       0.141282      -0.081672   \n",
       "Glucose                      0.129459  1.000000       0.152590       0.057328   \n",
       "BloodPressure                0.141282  0.152590       1.000000       0.207371   \n",
       "SkinThickness               -0.081672  0.057328       0.207371       1.000000   \n",
       "Insulin                     -0.073535  0.331357       0.088933       0.436783   \n",
       "BMI                          0.017683  0.221071       0.281805       0.392573   \n",
       "DiabetesPedigreeFunction    -0.033523  0.137337       0.041265       0.183928   \n",
       "Age                          0.544341  0.263514       0.239528      -0.113970   \n",
       "Outcome                      0.221898  0.466581       0.065068       0.074752   \n",
       "\n",
       "                           Insulin       BMI  DiabetesPedigreeFunction  \\\n",
       "Pregnancies              -0.073535  0.017683                 -0.033523   \n",
       "Glucose                   0.331357  0.221071                  0.137337   \n",
       "BloodPressure             0.088933  0.281805                  0.041265   \n",
       "SkinThickness             0.436783  0.392573                  0.183928   \n",
       "Insulin                   1.000000  0.197859                  0.185071   \n",
       "BMI                       0.197859  1.000000                  0.140647   \n",
       "DiabetesPedigreeFunction  0.185071  0.140647                  1.000000   \n",
       "Age                      -0.042163  0.036242                  0.033561   \n",
       "Outcome                   0.130548  0.292695                  0.173844   \n",
       "\n",
       "                               Age   Outcome  \n",
       "Pregnancies               0.544341  0.221898  \n",
       "Glucose                   0.263514  0.466581  \n",
       "BloodPressure             0.239528  0.065068  \n",
       "SkinThickness            -0.113970  0.074752  \n",
       "Insulin                  -0.042163  0.130548  \n",
       "BMI                       0.036242  0.292695  \n",
       "DiabetesPedigreeFunction  0.033561  0.173844  \n",
       "Age                       1.000000  0.238356  \n",
       "Outcome                   0.238356  1.000000  "
      ]
     },
     "execution_count": 42,
     "metadata": {},
     "output_type": "execute_result"
    }
   ],
   "source": [
    "df1.corr()"
   ]
  },
  {
   "cell_type": "code",
   "execution_count": 43,
   "id": "a785d1e7",
   "metadata": {},
   "outputs": [
    {
     "data": {
      "text/plain": [
       "Pregnancies                 0.221898\n",
       "Glucose                     0.466581\n",
       "BloodPressure               0.065068\n",
       "SkinThickness               0.074752\n",
       "Insulin                     0.130548\n",
       "BMI                         0.292695\n",
       "DiabetesPedigreeFunction    0.173844\n",
       "Age                         0.238356\n",
       "Outcome                     1.000000\n",
       "Name: Outcome, dtype: float64"
      ]
     },
     "execution_count": 43,
     "metadata": {},
     "output_type": "execute_result"
    }
   ],
   "source": [
    "df1.corr()['Outcome']"
   ]
  },
  {
   "cell_type": "markdown",
   "id": "4159bc03",
   "metadata": {},
   "source": [
    "# ANN MODEL"
   ]
  },
  {
   "cell_type": "code",
   "execution_count": 44,
   "id": "589da73c",
   "metadata": {},
   "outputs": [
    {
     "name": "stdout",
     "output_type": "stream",
     "text": [
      "(768, 8)\n",
      "(768,)\n"
     ]
    }
   ],
   "source": [
    "x = df.iloc[:,:-1]\n",
    "y = df.iloc[:,-1]\n",
    "print(x.shape)\n",
    "print(y.shape)"
   ]
  },
  {
   "cell_type": "code",
   "execution_count": 45,
   "id": "125e8ee1",
   "metadata": {},
   "outputs": [
    {
     "name": "stdout",
     "output_type": "stream",
     "text": [
      "<class 'pandas.core.frame.DataFrame'>\n",
      "<class 'pandas.core.series.Series'>\n"
     ]
    }
   ],
   "source": [
    "print(type(x))\n",
    "print(type(y))"
   ]
  },
  {
   "cell_type": "code",
   "execution_count": 46,
   "id": "bba52569",
   "metadata": {},
   "outputs": [
    {
     "data": {
      "text/html": [
       "<div>\n",
       "<style scoped>\n",
       "    .dataframe tbody tr th:only-of-type {\n",
       "        vertical-align: middle;\n",
       "    }\n",
       "\n",
       "    .dataframe tbody tr th {\n",
       "        vertical-align: top;\n",
       "    }\n",
       "\n",
       "    .dataframe thead th {\n",
       "        text-align: right;\n",
       "    }\n",
       "</style>\n",
       "<table border=\"1\" class=\"dataframe\">\n",
       "  <thead>\n",
       "    <tr style=\"text-align: right;\">\n",
       "      <th></th>\n",
       "      <th>Pregnancies</th>\n",
       "      <th>Glucose</th>\n",
       "      <th>BloodPressure</th>\n",
       "      <th>SkinThickness</th>\n",
       "      <th>Insulin</th>\n",
       "      <th>BMI</th>\n",
       "      <th>DiabetesPedigreeFunction</th>\n",
       "      <th>Age</th>\n",
       "    </tr>\n",
       "  </thead>\n",
       "  <tbody>\n",
       "    <tr>\n",
       "      <th>0</th>\n",
       "      <td>6</td>\n",
       "      <td>148</td>\n",
       "      <td>72</td>\n",
       "      <td>35</td>\n",
       "      <td>0</td>\n",
       "      <td>33.6</td>\n",
       "      <td>0.627</td>\n",
       "      <td>50</td>\n",
       "    </tr>\n",
       "    <tr>\n",
       "      <th>1</th>\n",
       "      <td>1</td>\n",
       "      <td>85</td>\n",
       "      <td>66</td>\n",
       "      <td>29</td>\n",
       "      <td>0</td>\n",
       "      <td>26.6</td>\n",
       "      <td>0.351</td>\n",
       "      <td>31</td>\n",
       "    </tr>\n",
       "    <tr>\n",
       "      <th>2</th>\n",
       "      <td>8</td>\n",
       "      <td>183</td>\n",
       "      <td>64</td>\n",
       "      <td>0</td>\n",
       "      <td>0</td>\n",
       "      <td>23.3</td>\n",
       "      <td>0.672</td>\n",
       "      <td>32</td>\n",
       "    </tr>\n",
       "    <tr>\n",
       "      <th>3</th>\n",
       "      <td>1</td>\n",
       "      <td>89</td>\n",
       "      <td>66</td>\n",
       "      <td>23</td>\n",
       "      <td>94</td>\n",
       "      <td>28.1</td>\n",
       "      <td>0.167</td>\n",
       "      <td>21</td>\n",
       "    </tr>\n",
       "    <tr>\n",
       "      <th>4</th>\n",
       "      <td>0</td>\n",
       "      <td>137</td>\n",
       "      <td>40</td>\n",
       "      <td>35</td>\n",
       "      <td>168</td>\n",
       "      <td>43.1</td>\n",
       "      <td>2.288</td>\n",
       "      <td>33</td>\n",
       "    </tr>\n",
       "  </tbody>\n",
       "</table>\n",
       "</div>"
      ],
      "text/plain": [
       "   Pregnancies  Glucose  BloodPressure  SkinThickness  Insulin   BMI  \\\n",
       "0            6      148             72             35        0  33.6   \n",
       "1            1       85             66             29        0  26.6   \n",
       "2            8      183             64              0        0  23.3   \n",
       "3            1       89             66             23       94  28.1   \n",
       "4            0      137             40             35      168  43.1   \n",
       "\n",
       "   DiabetesPedigreeFunction  Age  \n",
       "0                     0.627   50  \n",
       "1                     0.351   31  \n",
       "2                     0.672   32  \n",
       "3                     0.167   21  \n",
       "4                     2.288   33  "
      ]
     },
     "execution_count": 46,
     "metadata": {},
     "output_type": "execute_result"
    }
   ],
   "source": [
    "x.head()"
   ]
  },
  {
   "cell_type": "code",
   "execution_count": 47,
   "id": "0a2697ca",
   "metadata": {},
   "outputs": [
    {
     "data": {
      "text/plain": [
       "0    1\n",
       "1    0\n",
       "2    1\n",
       "3    0\n",
       "4    1\n",
       "Name: Outcome, dtype: int64"
      ]
     },
     "execution_count": 47,
     "metadata": {},
     "output_type": "execute_result"
    }
   ],
   "source": [
    "y.head()"
   ]
  },
  {
   "cell_type": "markdown",
   "id": "ed909e16",
   "metadata": {},
   "source": [
    "# STEP-2"
   ]
  },
  {
   "cell_type": "code",
   "execution_count": 17,
   "id": "d5449243",
   "metadata": {},
   "outputs": [],
   "source": [
    "from sklearn.model_selection import train_test_split"
   ]
  },
  {
   "cell_type": "code",
   "execution_count": 18,
   "id": "0c8bd548",
   "metadata": {},
   "outputs": [
    {
     "name": "stdout",
     "output_type": "stream",
     "text": [
      "(537, 8)\n",
      "(231, 8)\n",
      "(537,)\n",
      "(231,)\n"
     ]
    }
   ],
   "source": [
    "x_train,x_test, y_train,y_test = train_test_split(x,y,test_size=0.30)\n",
    "print(x_train.shape)\n",
    "print(x_test.shape)\n",
    "print(y_train.shape)\n",
    "print(y_test.shape)"
   ]
  },
  {
   "cell_type": "code",
   "execution_count": 19,
   "id": "181136f8",
   "metadata": {},
   "outputs": [
    {
     "data": {
      "text/plain": [
       "537    0\n",
       "31     1\n",
       "92     0\n",
       "494    0\n",
       "53     1\n",
       "Name: Outcome, dtype: int64"
      ]
     },
     "execution_count": 19,
     "metadata": {},
     "output_type": "execute_result"
    }
   ],
   "source": [
    "y_train[:5]"
   ]
  },
  {
   "cell_type": "markdown",
   "id": "eb5ea635",
   "metadata": {},
   "source": [
    "# STEP-3"
   ]
  },
  {
   "cell_type": "code",
   "execution_count": 20,
   "id": "80a000bf",
   "metadata": {},
   "outputs": [],
   "source": [
    "from tensorflow.keras.models import Sequential\n",
    "from tensorflow.keras.layers import Dense, LeakyReLU\n",
    "from tensorflow.keras.optimizers import Adam, RMSprop"
   ]
  },
  {
   "cell_type": "code",
   "execution_count": 48,
   "id": "347106fc",
   "metadata": {},
   "outputs": [],
   "source": [
    "m1 = Sequential()                                 \n",
    "m1.add(Dense(40, activation='relu',input_dim=8))               \n",
    "m1.add(Dense(20, activation='relu'))\n",
    "m1.add(Dense(10, activation='relu'))\n",
    "m1.add(Dense(1,activation='sigmoid'))             \n",
    "\n",
    "m1.compile(optimizer='adam',loss='binary_crossentropy',metrics=['accuracy'])"
   ]
  },
  {
   "cell_type": "markdown",
   "id": "5152ee97",
   "metadata": {},
   "source": [
    "# STEP-4"
   ]
  },
  {
   "cell_type": "code",
   "execution_count": 49,
   "id": "efd3d51a",
   "metadata": {},
   "outputs": [
    {
     "name": "stdout",
     "output_type": "stream",
     "text": [
      "Epoch 1/50\n",
      "17/17 [==============================] - 1s 19ms/step - loss: 2.1133 - accuracy: 0.5363 - val_loss: 1.7678 - val_accuracy: 0.5628\n",
      "Epoch 2/50\n",
      "17/17 [==============================] - 0s 4ms/step - loss: 1.1233 - accuracy: 0.5940 - val_loss: 1.0769 - val_accuracy: 0.7186\n",
      "Epoch 3/50\n",
      "17/17 [==============================] - 0s 5ms/step - loss: 0.9532 - accuracy: 0.6406 - val_loss: 0.9525 - val_accuracy: 0.6840\n",
      "Epoch 4/50\n",
      "17/17 [==============================] - 0s 5ms/step - loss: 0.8135 - accuracy: 0.6313 - val_loss: 0.7420 - val_accuracy: 0.6753\n",
      "Epoch 5/50\n",
      "17/17 [==============================] - 0s 5ms/step - loss: 0.6854 - accuracy: 0.6629 - val_loss: 0.7153 - val_accuracy: 0.6797\n",
      "Epoch 6/50\n",
      "17/17 [==============================] - 0s 7ms/step - loss: 0.6516 - accuracy: 0.6983 - val_loss: 0.6774 - val_accuracy: 0.7316\n",
      "Epoch 7/50\n",
      "17/17 [==============================] - 0s 7ms/step - loss: 0.6456 - accuracy: 0.6890 - val_loss: 0.6171 - val_accuracy: 0.7532\n",
      "Epoch 8/50\n",
      "17/17 [==============================] - 0s 7ms/step - loss: 0.6187 - accuracy: 0.6778 - val_loss: 0.6444 - val_accuracy: 0.6667\n",
      "Epoch 9/50\n",
      "17/17 [==============================] - 0s 9ms/step - loss: 0.6876 - accuracy: 0.6574 - val_loss: 0.6195 - val_accuracy: 0.6926\n",
      "Epoch 10/50\n",
      "17/17 [==============================] - 0s 10ms/step - loss: 0.6499 - accuracy: 0.6816 - val_loss: 0.7354 - val_accuracy: 0.6537\n",
      "Epoch 11/50\n",
      "17/17 [==============================] - 0s 9ms/step - loss: 0.6476 - accuracy: 0.6872 - val_loss: 0.6444 - val_accuracy: 0.6753\n",
      "Epoch 12/50\n",
      "17/17 [==============================] - 0s 8ms/step - loss: 0.6090 - accuracy: 0.7076 - val_loss: 0.6271 - val_accuracy: 0.6840\n",
      "Epoch 13/50\n",
      "17/17 [==============================] - 0s 10ms/step - loss: 0.5957 - accuracy: 0.7169 - val_loss: 0.7115 - val_accuracy: 0.6926\n",
      "Epoch 14/50\n",
      "17/17 [==============================] - 0s 10ms/step - loss: 0.5651 - accuracy: 0.7058 - val_loss: 0.6087 - val_accuracy: 0.7143\n",
      "Epoch 15/50\n",
      "17/17 [==============================] - 0s 10ms/step - loss: 0.6033 - accuracy: 0.7114 - val_loss: 0.7409 - val_accuracy: 0.6667\n",
      "Epoch 16/50\n",
      "17/17 [==============================] - 0s 9ms/step - loss: 0.5832 - accuracy: 0.7225 - val_loss: 0.6151 - val_accuracy: 0.7013\n",
      "Epoch 17/50\n",
      "17/17 [==============================] - 0s 8ms/step - loss: 0.5620 - accuracy: 0.7430 - val_loss: 0.6531 - val_accuracy: 0.6494\n",
      "Epoch 18/50\n",
      "17/17 [==============================] - 0s 9ms/step - loss: 0.5922 - accuracy: 0.7039 - val_loss: 0.6140 - val_accuracy: 0.6926\n",
      "Epoch 19/50\n",
      "17/17 [==============================] - 0s 10ms/step - loss: 0.6063 - accuracy: 0.6965 - val_loss: 0.6407 - val_accuracy: 0.7100\n",
      "Epoch 20/50\n",
      "17/17 [==============================] - 0s 10ms/step - loss: 0.5674 - accuracy: 0.7114 - val_loss: 0.6938 - val_accuracy: 0.6623\n",
      "Epoch 21/50\n",
      "17/17 [==============================] - 0s 9ms/step - loss: 0.5835 - accuracy: 0.7095 - val_loss: 0.6053 - val_accuracy: 0.7143\n",
      "Epoch 22/50\n",
      "17/17 [==============================] - 0s 8ms/step - loss: 0.5604 - accuracy: 0.7114 - val_loss: 0.6030 - val_accuracy: 0.7056\n",
      "Epoch 23/50\n",
      "17/17 [==============================] - 0s 8ms/step - loss: 0.5587 - accuracy: 0.7374 - val_loss: 0.6809 - val_accuracy: 0.6840\n",
      "Epoch 24/50\n",
      "17/17 [==============================] - 0s 11ms/step - loss: 0.6191 - accuracy: 0.7020 - val_loss: 0.6582 - val_accuracy: 0.6970\n",
      "Epoch 25/50\n",
      "17/17 [==============================] - 0s 8ms/step - loss: 0.5575 - accuracy: 0.7039 - val_loss: 0.6032 - val_accuracy: 0.6926\n",
      "Epoch 26/50\n",
      "17/17 [==============================] - 0s 9ms/step - loss: 0.5531 - accuracy: 0.7225 - val_loss: 0.6027 - val_accuracy: 0.7013\n",
      "Epoch 27/50\n",
      "17/17 [==============================] - 0s 10ms/step - loss: 0.5716 - accuracy: 0.7058 - val_loss: 0.6292 - val_accuracy: 0.7013\n",
      "Epoch 28/50\n",
      "17/17 [==============================] - 0s 9ms/step - loss: 0.5544 - accuracy: 0.7095 - val_loss: 0.6698 - val_accuracy: 0.6797\n",
      "Epoch 29/50\n",
      "17/17 [==============================] - 0s 7ms/step - loss: 0.5740 - accuracy: 0.7169 - val_loss: 0.6059 - val_accuracy: 0.7013\n",
      "Epoch 30/50\n",
      "17/17 [==============================] - 0s 12ms/step - loss: 0.5691 - accuracy: 0.7039 - val_loss: 0.5915 - val_accuracy: 0.6926\n",
      "Epoch 31/50\n",
      "17/17 [==============================] - 0s 8ms/step - loss: 0.5345 - accuracy: 0.7300 - val_loss: 0.5923 - val_accuracy: 0.7100\n",
      "Epoch 32/50\n",
      "17/17 [==============================] - 0s 7ms/step - loss: 0.5263 - accuracy: 0.7300 - val_loss: 0.6054 - val_accuracy: 0.7056\n",
      "Epoch 33/50\n",
      "17/17 [==============================] - 0s 12ms/step - loss: 0.5243 - accuracy: 0.7561 - val_loss: 0.6128 - val_accuracy: 0.6883\n",
      "Epoch 34/50\n",
      "17/17 [==============================] - 0s 7ms/step - loss: 0.5292 - accuracy: 0.7151 - val_loss: 0.6077 - val_accuracy: 0.6926\n",
      "Epoch 35/50\n",
      "17/17 [==============================] - 0s 6ms/step - loss: 0.5333 - accuracy: 0.7356 - val_loss: 0.6268 - val_accuracy: 0.6797\n",
      "Epoch 36/50\n",
      "17/17 [==============================] - 0s 6ms/step - loss: 0.5355 - accuracy: 0.7356 - val_loss: 0.5982 - val_accuracy: 0.6840\n",
      "Epoch 37/50\n",
      "17/17 [==============================] - 0s 7ms/step - loss: 0.5368 - accuracy: 0.7300 - val_loss: 0.5796 - val_accuracy: 0.7013\n",
      "Epoch 38/50\n",
      "17/17 [==============================] - 0s 6ms/step - loss: 0.5335 - accuracy: 0.7188 - val_loss: 0.6043 - val_accuracy: 0.6926\n",
      "Epoch 39/50\n",
      "17/17 [==============================] - 0s 8ms/step - loss: 0.5235 - accuracy: 0.7244 - val_loss: 0.6071 - val_accuracy: 0.6883\n",
      "Epoch 40/50\n",
      "17/17 [==============================] - 0s 9ms/step - loss: 0.5297 - accuracy: 0.7449 - val_loss: 0.5918 - val_accuracy: 0.6926\n",
      "Epoch 41/50\n",
      "17/17 [==============================] - 0s 8ms/step - loss: 0.5491 - accuracy: 0.7151 - val_loss: 0.6500 - val_accuracy: 0.6883\n",
      "Epoch 42/50\n",
      "17/17 [==============================] - 0s 7ms/step - loss: 0.5545 - accuracy: 0.7020 - val_loss: 0.6624 - val_accuracy: 0.6797\n",
      "Epoch 43/50\n",
      "17/17 [==============================] - 0s 7ms/step - loss: 0.6105 - accuracy: 0.6983 - val_loss: 0.6275 - val_accuracy: 0.6883\n",
      "Epoch 44/50\n",
      "17/17 [==============================] - 0s 10ms/step - loss: 0.5392 - accuracy: 0.7188 - val_loss: 0.5893 - val_accuracy: 0.6970\n",
      "Epoch 45/50\n",
      "17/17 [==============================] - 0s 10ms/step - loss: 0.5458 - accuracy: 0.7244 - val_loss: 0.6477 - val_accuracy: 0.6883\n",
      "Epoch 46/50\n",
      "17/17 [==============================] - 0s 8ms/step - loss: 0.5452 - accuracy: 0.7244 - val_loss: 0.5892 - val_accuracy: 0.6970\n",
      "Epoch 47/50\n",
      "17/17 [==============================] - 0s 6ms/step - loss: 0.5093 - accuracy: 0.7449 - val_loss: 0.6717 - val_accuracy: 0.6883\n",
      "Epoch 48/50\n",
      "17/17 [==============================] - 0s 8ms/step - loss: 0.5535 - accuracy: 0.7374 - val_loss: 0.6977 - val_accuracy: 0.6797\n",
      "Epoch 49/50\n",
      "17/17 [==============================] - 0s 9ms/step - loss: 0.5481 - accuracy: 0.7114 - val_loss: 0.6195 - val_accuracy: 0.6926\n",
      "Epoch 50/50\n",
      "17/17 [==============================] - 0s 7ms/step - loss: 0.5162 - accuracy: 0.7393 - val_loss: 0.6125 - val_accuracy: 0.6926\n"
     ]
    }
   ],
   "source": [
    "R1 = m1.fit(x_train,y_train,epochs=50,validation_data=(x_test,y_test))"
   ]
  },
  {
   "cell_type": "code",
   "execution_count": 50,
   "id": "9b989e61",
   "metadata": {},
   "outputs": [
    {
     "data": {
      "text/html": [
       "<div>\n",
       "<style scoped>\n",
       "    .dataframe tbody tr th:only-of-type {\n",
       "        vertical-align: middle;\n",
       "    }\n",
       "\n",
       "    .dataframe tbody tr th {\n",
       "        vertical-align: top;\n",
       "    }\n",
       "\n",
       "    .dataframe thead th {\n",
       "        text-align: right;\n",
       "    }\n",
       "</style>\n",
       "<table border=\"1\" class=\"dataframe\">\n",
       "  <thead>\n",
       "    <tr style=\"text-align: right;\">\n",
       "      <th></th>\n",
       "      <th>loss</th>\n",
       "      <th>accuracy</th>\n",
       "      <th>val_loss</th>\n",
       "      <th>val_accuracy</th>\n",
       "      <th>Epochs</th>\n",
       "    </tr>\n",
       "  </thead>\n",
       "  <tbody>\n",
       "    <tr>\n",
       "      <th>45</th>\n",
       "      <td>0.545195</td>\n",
       "      <td>0.724395</td>\n",
       "      <td>0.589186</td>\n",
       "      <td>0.696970</td>\n",
       "      <td>45</td>\n",
       "    </tr>\n",
       "    <tr>\n",
       "      <th>46</th>\n",
       "      <td>0.509320</td>\n",
       "      <td>0.744879</td>\n",
       "      <td>0.671740</td>\n",
       "      <td>0.688312</td>\n",
       "      <td>46</td>\n",
       "    </tr>\n",
       "    <tr>\n",
       "      <th>47</th>\n",
       "      <td>0.553454</td>\n",
       "      <td>0.737430</td>\n",
       "      <td>0.697724</td>\n",
       "      <td>0.679654</td>\n",
       "      <td>47</td>\n",
       "    </tr>\n",
       "    <tr>\n",
       "      <th>48</th>\n",
       "      <td>0.548072</td>\n",
       "      <td>0.711359</td>\n",
       "      <td>0.619541</td>\n",
       "      <td>0.692641</td>\n",
       "      <td>48</td>\n",
       "    </tr>\n",
       "    <tr>\n",
       "      <th>49</th>\n",
       "      <td>0.516182</td>\n",
       "      <td>0.739292</td>\n",
       "      <td>0.612485</td>\n",
       "      <td>0.692641</td>\n",
       "      <td>49</td>\n",
       "    </tr>\n",
       "  </tbody>\n",
       "</table>\n",
       "</div>"
      ],
      "text/plain": [
       "        loss  accuracy  val_loss  val_accuracy  Epochs\n",
       "45  0.545195  0.724395  0.589186      0.696970      45\n",
       "46  0.509320  0.744879  0.671740      0.688312      46\n",
       "47  0.553454  0.737430  0.697724      0.679654      47\n",
       "48  0.548072  0.711359  0.619541      0.692641      48\n",
       "49  0.516182  0.739292  0.612485      0.692641      49"
      ]
     },
     "execution_count": 50,
     "metadata": {},
     "output_type": "execute_result"
    }
   ],
   "source": [
    "r1 = pd.DataFrame(R1.history)\n",
    "r1['Epochs'] = R1.epoch\n",
    "r1.tail()"
   ]
  },
  {
   "cell_type": "markdown",
   "id": "855823d9",
   "metadata": {},
   "source": [
    "# STEP-5"
   ]
  },
  {
   "cell_type": "code",
   "execution_count": 51,
   "id": "b2003e15",
   "metadata": {},
   "outputs": [
    {
     "data": {
      "image/png": "[encoded data removed]",
      "text/plain": [
       "<Figure size 432x288 with 1 Axes>"
      ]
     },
     "metadata": {
      "needs_background": "light"
     },
     "output_type": "display_data"
    }
   ],
   "source": [
    "plt.plot(r1['Epochs'],r1['loss'],label='Training Loss')\n",
    "plt.plot(r1['Epochs'],r1['val_loss'],label='Testing Loss')\n",
    "plt.xlabel('Epochs - No of Iterations')\n",
    "plt.legend()\n",
    "plt.ylabel('Loss')\n",
    "plt.show()"
   ]
  },
  {
   "cell_type": "markdown",
   "id": "b32b4f9a",
   "metadata": {},
   "source": [
    "# STEP-6"
   ]
  },
  {
   "cell_type": "code",
   "execution_count": 25,
   "id": "97d3fa12",
   "metadata": {},
   "outputs": [
    {
     "data": {
      "image/png": "[encoded data removed]",
      "text/plain": [
       "<Figure size 432x288 with 1 Axes>"
      ]
     },
     "metadata": {
      "needs_background": "light"
     },
     "output_type": "display_data"
    }
   ],
   "source": [
    "plt.plot(r1['Epochs'],r1['accuracy'],label='Training Accuracy')\n",
    "plt.plot(r1['Epochs'],r1['val_accuracy'],label='Testing Accuracy')\n",
    "plt.xlabel('Epochs - No of Iterations')\n",
    "plt.ylabel('Accuracy')\n",
    "plt.legend()\n",
    "plt.show()"
   ]
  },
  {
   "cell_type": "markdown",
   "id": "fe553896",
   "metadata": {},
   "source": [
    "# STEP-7"
   ]
  },
  {
   "cell_type": "code",
   "execution_count": 52,
   "id": "0d1ec85f",
   "metadata": {},
   "outputs": [
    {
     "name": "stdout",
     "output_type": "stream",
     "text": [
      "[[0.27978948]\n",
      " [0.04306683]\n",
      " [0.43546906]\n",
      " [0.20266336]\n",
      " [0.6113745 ]\n",
      " [0.56467736]\n",
      " [0.11370692]\n",
      " [0.4789294 ]\n",
      " [0.2245382 ]\n",
      " [0.27358758]\n",
      " [0.406255  ]\n",
      " [0.09432614]\n",
      " [0.21016464]\n",
      " [0.14526245]\n",
      " [0.31484067]\n",
      " [0.16811496]\n",
      " [0.8536447 ]\n",
      " [0.37060297]\n",
      " [0.37457043]\n",
      " [0.45615995]\n",
      " [0.33638301]\n",
      " [0.21439844]\n",
      " [0.7370811 ]\n",
      " [0.16028747]\n",
      " [0.37915152]\n",
      " [0.11034656]\n",
      " [0.3525483 ]\n",
      " [0.30613452]\n",
      " [0.3431896 ]\n",
      " [0.32174677]\n",
      " [0.00656477]\n",
      " [0.24629983]\n",
      " [0.08605996]\n",
      " [0.43524647]\n",
      " [0.17887482]\n",
      " [0.8109578 ]\n",
      " [0.13251927]\n",
      " [0.595423  ]\n",
      " [0.275043  ]\n",
      " [0.33519083]\n",
      " [0.06607363]\n",
      " [0.30085653]\n",
      " [0.7466056 ]\n",
      " [0.12162185]\n",
      " [0.07940057]\n",
      " [0.2994615 ]\n",
      " [0.48281896]\n",
      " [0.54440737]\n",
      " [0.30952716]\n",
      " [0.56753147]\n",
      " [0.4347621 ]\n",
      " [0.43877053]\n",
      " [0.6498538 ]\n",
      " [0.32090735]\n",
      " [0.38382334]\n",
      " [0.02619752]\n",
      " [0.18696856]\n",
      " [0.8321638 ]\n",
      " [0.11192685]\n",
      " [0.39993638]\n",
      " [0.34795827]\n",
      " [0.5121356 ]\n",
      " [0.4460704 ]\n",
      " [0.42933267]\n",
      " [0.18937764]\n",
      " [0.39940643]\n",
      " [0.17922413]\n",
      " [0.20958939]\n",
      " [0.7335575 ]\n",
      " [0.37526336]\n",
      " [0.15569526]\n",
      " [0.4902566 ]\n",
      " [0.09468967]\n",
      " [0.07765961]\n",
      " [0.78370553]\n",
      " [0.2671539 ]\n",
      " [0.19940159]\n",
      " [0.12738219]\n",
      " [0.80036247]\n",
      " [0.13639593]\n",
      " [0.11073551]\n",
      " [0.32580894]\n",
      " [0.14071333]\n",
      " [0.30602413]\n",
      " [0.10521215]\n",
      " [0.06495306]\n",
      " [0.00453198]\n",
      " [0.7879696 ]\n",
      " [0.2755651 ]\n",
      " [0.2482858 ]\n",
      " [0.12311098]\n",
      " [0.12594303]\n",
      " [0.13646212]\n",
      " [0.40402892]\n",
      " [0.08591774]\n",
      " [0.38642898]\n",
      " [0.07410154]\n",
      " [0.04032528]\n",
      " [0.31527334]\n",
      " [0.9355277 ]\n",
      " [0.24900213]\n",
      " [0.01548094]\n",
      " [0.13661405]\n",
      " [0.3307401 ]\n",
      " [0.5706759 ]\n",
      " [0.39435744]\n",
      " [0.20345756]\n",
      " [0.15538856]\n",
      " [0.43776196]\n",
      " [0.2034562 ]\n",
      " [0.2284016 ]\n",
      " [0.3674432 ]\n",
      " [0.10598272]\n",
      " [0.15727052]\n",
      " [0.40773338]\n",
      " [0.7736677 ]\n",
      " [0.327209  ]\n",
      " [0.5733943 ]\n",
      " [0.30815673]\n",
      " [0.08574972]\n",
      " [0.34792393]\n",
      " [0.44655037]\n",
      " [0.7017536 ]\n",
      " [0.18643352]\n",
      " [0.03317305]\n",
      " [0.7499677 ]\n",
      " [0.20620683]\n",
      " [0.39817816]\n",
      " [0.46411   ]\n",
      " [0.15090948]\n",
      " [0.10673526]\n",
      " [0.46075237]\n",
      " [0.7150009 ]\n",
      " [0.86844337]\n",
      " [0.76983297]\n",
      " [0.64955044]\n",
      " [0.11365724]\n",
      " [0.49603066]\n",
      " [0.4747596 ]\n",
      " [0.15755987]\n",
      " [0.24581933]\n",
      " [0.28805348]\n",
      " [0.88408184]\n",
      " [0.17704004]\n",
      " [0.02054402]\n",
      " [0.36128545]\n",
      " [0.1653662 ]\n",
      " [0.45293385]\n",
      " [0.69697684]\n",
      " [0.6969948 ]\n",
      " [0.40995675]\n",
      " [0.09161448]\n",
      " [0.36229956]\n",
      " [0.11952791]\n",
      " [0.15489498]\n",
      " [0.11421722]\n",
      " [0.04490963]\n",
      " [0.2575658 ]\n",
      " [0.00746536]\n",
      " [0.3002001 ]\n",
      " [0.3026717 ]\n",
      " [0.5945895 ]\n",
      " [0.05610606]\n",
      " [0.53052   ]\n",
      " [0.712258  ]\n",
      " [0.08275571]\n",
      " [0.5217232 ]\n",
      " [0.44428974]\n",
      " [0.35015893]\n",
      " [0.06103703]\n",
      " [0.09348044]\n",
      " [0.7186031 ]\n",
      " [0.30546665]\n",
      " [0.15491149]\n",
      " [0.7745197 ]\n",
      " [0.0319595 ]\n",
      " [0.3311241 ]\n",
      " [0.05185401]\n",
      " [0.04327354]\n",
      " [0.18962792]\n",
      " [0.19324452]\n",
      " [0.36746114]\n",
      " [0.03518382]\n",
      " [0.22851172]\n",
      " [0.160436  ]\n",
      " [0.13188103]\n",
      " [0.47570834]\n",
      " [0.58650434]\n",
      " [0.2140432 ]\n",
      " [0.20706707]\n",
      " [0.68499345]\n",
      " [0.260775  ]\n",
      " [0.36966735]\n",
      " [0.10622388]\n",
      " [0.141693  ]\n",
      " [0.10969862]\n",
      " [0.3839607 ]\n",
      " [0.2757069 ]\n",
      " [0.2922421 ]\n",
      " [0.33444574]\n",
      " [0.69123405]\n",
      " [0.19575348]\n",
      " [0.4920356 ]\n",
      " [0.42179012]\n",
      " [0.40276694]\n",
      " [0.4015761 ]\n",
      " [0.74701226]\n",
      " [0.06649899]\n",
      " [0.2704721 ]\n",
      " [0.11420003]\n",
      " [0.87211454]\n",
      " [0.17957085]\n",
      " [0.32662666]\n",
      " [0.0251098 ]\n",
      " [0.6105637 ]\n",
      " [0.08761272]\n",
      " [0.17396176]\n",
      " [0.09136117]\n",
      " [0.03818464]\n",
      " [0.3388179 ]\n",
      " [0.0752106 ]\n",
      " [0.04634729]\n",
      " [0.62763846]\n",
      " [0.10748219]\n",
      " [0.02277911]\n",
      " [0.2021411 ]\n",
      " [0.16712797]\n",
      " [0.68439597]\n",
      " [0.19489995]\n",
      " [0.19311309]\n",
      " [0.03550911]]\n"
     ]
    }
   ],
   "source": [
    "ypred_m1 = m1.predict(x_test)\n",
    "print(ypred_m1)"
   ]
  },
  {
   "cell_type": "code",
   "execution_count": 53,
   "id": "b27ef298",
   "metadata": {},
   "outputs": [
    {
     "name": "stdout",
     "output_type": "stream",
     "text": [
      "[0, 0, 0, 0, 1, 1, 0, 0, 0, 0, 0, 0, 0, 0, 0, 0, 1, 0, 0, 0, 0, 0, 1, 0, 0, 0, 0, 0, 0, 0, 0, 0, 0, 0, 0, 1, 0, 1, 0, 0, 0, 0, 1, 0, 0, 0, 0, 1, 0, 1, 0, 0, 1, 0, 0, 0, 0, 1, 0, 0, 0, 1, 0, 0, 0, 0, 0, 0, 1, 0, 0, 0, 0, 0, 1, 0, 0, 0, 1, 0, 0, 0, 0, 0, 0, 0, 0, 1, 0, 0, 0, 0, 0, 0, 0, 0, 0, 0, 0, 1, 0, 0, 0, 0, 1, 0, 0, 0, 0, 0, 0, 0, 0, 0, 0, 1, 0, 1, 0, 0, 0, 0, 1, 0, 0, 1, 0, 0, 0, 0, 0, 0, 1, 1, 1, 1, 0, 0, 0, 0, 0, 0, 1, 0, 0, 0, 0, 0, 1, 1, 0, 0, 0, 0, 0, 0, 0, 0, 0, 0, 0, 1, 0, 1, 1, 0, 1, 0, 0, 0, 0, 1, 0, 0, 1, 0, 0, 0, 0, 0, 0, 0, 0, 0, 0, 0, 0, 1, 0, 0, 1, 0, 0, 0, 0, 0, 0, 0, 0, 0, 1, 0, 0, 0, 0, 0, 1, 0, 0, 0, 1, 0, 0, 0, 1, 0, 0, 0, 0, 0, 0, 0, 1, 0, 0, 0, 0, 1, 0, 0, 0]\n"
     ]
    }
   ],
   "source": [
    "ypred_m1 = [1 if i>0.5 else 0 for i in ypred_m1]\n",
    "print(ypred_m1)"
   ]
  },
  {
   "cell_type": "code",
   "execution_count": 54,
   "id": "0870b9b7",
   "metadata": {},
   "outputs": [
    {
     "name": "stdout",
     "output_type": "stream",
     "text": [
      "[1 0 1 0 1 1 0 0 0 0 0 1 0 0 0 0 1 0 1 0 1 0 1 0 0 0 1 0 0 1 0 0 1 1 1 0 1\n",
      " 0 0 1 0 0 1 0 0 0 0 0 1 0 0 0 1 1 0 0 0 1 0 1 1 0 0 0 1 1 0 0 1 1 0 1 0 0\n",
      " 1 1 0 0 1 0 0 0 0 1 0 0 1 1 0 0 0 0 0 0 0 1 0 0 0 0 0 1 0 1 1 0 1 0 0 0 0\n",
      " 0 0 0 1 1 0 1 1 1 1 1 1 1 0 1 1 1 0 0 1 0 1 1 1 1 0 1 0 0 0 0 0 0 0 1 1 1\n",
      " 1 1 1 1 0 0 0 0 0 1 0 0 0 0 1 1 1 0 0 1 1 0 0 1 0 0 1 0 1 0 0 0 0 0 0 1 0\n",
      " 0 0 1 0 0 1 0 0 0 1 1 0 1 0 0 0 1 1 1 1 1 1 0 1 0 1 0 1 0 0 0 0 0 0 0 0 0\n",
      " 1 0 0 0 0 0 1 0 0]\n"
     ]
    }
   ],
   "source": [
    "print(y_test.values)"
   ]
  },
  {
   "cell_type": "markdown",
   "id": "2c2d810d",
   "metadata": {},
   "source": [
    "# STEP-8"
   ]
  },
  {
   "cell_type": "code",
   "execution_count": 29,
   "id": "c09bbc43",
   "metadata": {},
   "outputs": [],
   "source": [
    "from sklearn.metrics import confusion_matrix,classification_report"
   ]
  },
  {
   "cell_type": "code",
   "execution_count": 57,
   "id": "7bd530d7",
   "metadata": {},
   "outputs": [
    {
     "name": "stdout",
     "output_type": "stream",
     "text": [
      "[[129  12]\n",
      " [ 59  31]]\n",
      "              precision    recall  f1-score   support\n",
      "\n",
      "           0       0.69      0.91      0.78       141\n",
      "           1       0.72      0.34      0.47        90\n",
      "\n",
      "    accuracy                           0.69       231\n",
      "   macro avg       0.70      0.63      0.63       231\n",
      "weighted avg       0.70      0.69      0.66       231\n",
      "\n"
     ]
    }
   ],
   "source": [
    "cm_m1 = confusion_matrix(y_test,ypred_m1)\n",
    "print(cm_m1)\n",
    "print(classification_report(y_test,ypred_m1))"
   ]
  },
  {
   "cell_type": "code",
   "execution_count": null,
   "id": "a9eec03d",
   "metadata": {},
   "outputs": [],
   "source": []
  }
 ],
 "metadata": {
  "kernelspec": {
   "display_name": "Python 3 (ipykernel)",
   "language": "python",
   "name": "python3"
  },
  "language_info": {
   "codemirror_mode": {
    "name": "ipython",
    "version": 3
   },
   "file_extension": ".py",
   "mimetype": "text/x-python",
   "name": "python",
   "nbconvert_exporter": "python",
   "pygments_lexer": "ipython3",
   "version": "3.10.4"
  }
 },
 "nbformat": 4,
 "nbformat_minor": 5
}
